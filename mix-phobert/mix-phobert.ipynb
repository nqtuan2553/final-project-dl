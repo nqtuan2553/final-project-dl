{
 "cells": [
  {
   "cell_type": "code",
   "execution_count": 3,
   "metadata": {},
   "outputs": [],
   "source": [
    "import torch\n",
    "import random\n",
    "import numpy as np\n",
    "\n",
    "device = torch.device('cuda' if torch.cuda.is_available() else 'cpu')"
   ]
  },
  {
   "cell_type": "code",
   "execution_count": 2,
   "metadata": {
    "execution": {
     "iopub.execute_input": "2024-11-10T02:10:09.590039Z",
     "iopub.status.busy": "2024-11-10T02:10:09.589752Z",
     "iopub.status.idle": "2024-11-10T02:10:13.112677Z",
     "shell.execute_reply": "2024-11-10T02:10:13.111715Z",
     "shell.execute_reply.started": "2024-11-10T02:10:09.590002Z"
    },
    "id": "mQWCGFilVnS7",
    "trusted": true
   },
   "outputs": [],
   "source": [
    "import numpy as np\n",
    "import pandas as pd\n",
    "\n",
    "train = pd.read_csv('train.csv')\n",
    "dev = pd.read_csv('val.csv')\n",
    "train = train.dropna()\n",
    "dev = dev.dropna()\n",
    "\n",
    "train['text'] = train['text'].astype(str)\n",
    "#train['label'] = 1\n",
    "X_train = train['text']\n",
    "y_train = train[\"label\"]\n",
    "\n",
    "dev['text'] = dev['text'].astype(str)\n",
    "X_valid = dev['text']\n",
    "y_valid = dev['label']"
   ]
  },
  {
   "cell_type": "code",
   "execution_count": 3,
   "metadata": {
    "execution": {
     "iopub.execute_input": "2024-11-10T02:10:28.999503Z",
     "iopub.status.busy": "2024-11-10T02:10:28.999030Z",
     "iopub.status.idle": "2024-11-10T02:10:29.044427Z",
     "shell.execute_reply": "2024-11-10T02:10:29.043514Z",
     "shell.execute_reply.started": "2024-11-10T02:10:28.999467Z"
    },
    "id": "5jTYkrtMVnS8",
    "trusted": true
   },
   "outputs": [],
   "source": [
    "import pandas as pd\n",
    "\n",
    "train_sentences = list(train['text'].values)\n",
    "train_labels = list(train['label'].values)\n",
    "\n",
    "dev_sentences = list(dev['text'].values)\n",
    "dev_labels = list(dev['label'].values)"
   ]
  },
  {
   "cell_type": "code",
   "execution_count": 4,
   "metadata": {
    "execution": {
     "iopub.execute_input": "2024-11-10T02:10:30.928426Z",
     "iopub.status.busy": "2024-11-10T02:10:30.928028Z"
    },
    "id": "UVppgTK5VnS9",
    "trusted": true
   },
   "outputs": [],
   "source": [
    "from sklearn import preprocessing\n",
    "\n",
    "le = preprocessing.LabelEncoder()\n",
    "le.fit(train_labels)\n",
    "encoded_labels = le.transform(train_labels)\n",
    "encoded_dev_labels = le.transform(dev_labels)"
   ]
  },
  {
   "cell_type": "code",
   "execution_count": 1,
   "metadata": {},
   "outputs": [
    {
     "name": "stderr",
     "output_type": "stream",
     "text": [
      "Some weights of RobertaModel were not initialized from the model checkpoint at vinai/phobert-base-v2 and are newly initialized: ['roberta.pooler.dense.bias', 'roberta.pooler.dense.weight']\n",
      "You should probably TRAIN this model on a down-stream task to be able to use it for predictions and inference.\n"
     ]
    }
   ],
   "source": [
    "from transformers import AutoModel, AutoTokenizer\n",
    "tokenizer = AutoTokenizer.from_pretrained('vinai/phobert-base-v2')\n",
    "phoBert = AutoModel.from_pretrained('vinai/phobert-base-v2')"
   ]
  },
  {
   "cell_type": "code",
   "execution_count": null,
   "metadata": {
    "colab": {
     "base_uri": "https://localhost:8080/"
    },
    "id": "ULP2-SfGVnS9",
    "outputId": "e1f5b529-2b11-468f-f4f8-3d94f04e3516",
    "trusted": true
   },
   "outputs": [
    {
     "name": "stderr",
     "output_type": "stream",
     "text": [
      "  0%|          | 0/43171 [00:00<?, ?it/s]/workspace/thviet/LLMs/Monolingual/drop-rag/.conda/lib/python3.12/site-packages/transformers/tokenization_utils_base.py:2829: FutureWarning: The `pad_to_max_length` argument is deprecated and will be removed in a future version, use `padding=True` or `padding='longest'` to pad to the longest sequence in the batch, or use `padding='max_length'` to pad to a max length. In this case, you can give a specific length with `max_length` (e.g. `max_length=45`) or leave max_length to None to pad to the maximal input size of the model (e.g. 512 for Bert).\n",
      "  warnings.warn(\n",
      "100%|██████████| 43171/43171 [00:16<00:00, 2612.67it/s]\n",
      "100%|██████████| 5382/5382 [00:01<00:00, 2837.68it/s]\n"
     ]
    }
   ],
   "source": [
    "from tqdm import tqdm\n",
    "def encoder_generator(sentences,labels):\n",
    "\n",
    "\n",
    "    sent_index1 = []\n",
    "    sent_index2 = []\n",
    "    input_ids = []\n",
    "    attention_masks = []\n",
    "    decoder_labels = []\n",
    "    tokenizer.pad_token = tokenizer.eos_token\n",
    "    for index, sent in enumerate(tqdm(sentences)):\n",
    "        sent_index1.append(index)\n",
    "\n",
    "        encoded_dict = tokenizer.encode_plus(\n",
    "            sent,\n",
    "            add_special_tokens=True,\n",
    "            max_length=128,\n",
    "            pad_to_max_length=True,\n",
    "            truncation=True,\n",
    "            return_attention_mask=True,\n",
    "            return_tensors='pt'\n",
    "        )\n",
    "        input_ids.append(encoded_dict['input_ids'].to(device))\n",
    "        attention_masks.append(encoded_dict['attention_mask'].to(device))\n",
    "    # Concatenate and move final tensors to the GPU\n",
    "    input_ids = torch.cat(input_ids, dim=0).to(device)\n",
    "    attention_masks = torch.cat(attention_masks, dim=0).to(device)\n",
    "    #decoder_labels = torch.cat(decoder_labels,dim=0).to(device)\n",
    "    labels = torch.tensor(labels).to(device)\n",
    "    sent_index1 = torch.tensor(sent_index1).to(device)\n",
    "    \n",
    "    return sent_index1, input_ids, attention_masks, labels\n",
    "\n",
    "train_sent_index,train_input_ids,train_attention_masks,train_encoded_label_tensors = encoder_generator(train_sentences,train_labels)\n",
    "dev_sent_index,dev_input_ids,dev_attention_masks,dev_encoded_label_tensors = encoder_generator(dev_sentences,dev_labels)\n",
    "#print('Original: ', train_sentences[0])\n",
    "#print('Token IDs:', train_input_ids[0])\n"
   ]
  },
  {
   "cell_type": "code",
   "execution_count": 15,
   "metadata": {},
   "outputs": [
    {
     "name": "stdout",
     "output_type": "stream",
     "text": [
      "Token IDs: tensor([    0,   266,  6344, 18150,  1204,    88,   238,   118,    17,  7708,\n",
      "            3,  3965,   344,   988,    77,    59,  6205,  6266,     6,  7130,\n",
      "        45572,  1301,     4,    59,  1061, 41086,     6,    17,    10,    61,\n",
      "        14457,  9970,    12, 27772,     4,    15,   139,    47,   939,   520,\n",
      "        10793,  5796,  1384,     4,   122,    13,    18,   305,  4263,   154,\n",
      "           11,    61,    72,  2270,  1494, 39951,  1494, 39951,    59,  1088,\n",
      "        42245, 13208,     2,     2,     2,     2,     2,     2,     2,     2,\n",
      "            2,     2,     2,     2,     2,     2,     2,     2,     2,     2,\n",
      "            2,     2,     2,     2,     2,     2,     2,     2,     2,     2,\n",
      "            2,     2,     2,     2,     2,     2,     2,     2,     2,     2,\n",
      "            2,     2,     2,     2,     2,     2,     2,     2,     2,     2,\n",
      "            2,     2,     2,     2,     2,     2,     2,     2,     2,     2,\n",
      "            2,     2,     2,     2,     2,     2,     2,     2],\n",
      "       device='cuda:0')\n"
     ]
    }
   ],
   "source": [
    "print('Token IDs:', train_input_ids[0])"
   ]
  },
  {
   "cell_type": "code",
   "execution_count": null,
   "metadata": {
    "colab": {
     "base_uri": "https://localhost:8080/"
    },
    "id": "iAxKUO19VnS-",
    "outputId": "397c3707-3a0c-4c7b-8f9a-44d2482d9e19",
    "trusted": true
   },
   "outputs": [],
   "source": [
    "print('Original: ', train_sentences[:10])\n",
    "print('Token IDs:', train_input_ids[:10])"
   ]
  },
  {
   "cell_type": "code",
   "execution_count": 7,
   "metadata": {
    "colab": {
     "base_uri": "https://localhost:8080/"
    },
    "id": "3qzKvD36VnS-",
    "outputId": "567ed3c7-255c-4919-ba5c-7fa5d2ff4a73",
    "trusted": true
   },
   "outputs": [
    {
     "name": "stdout",
     "output_type": "stream",
     "text": [
      "train data samples is 43171\n",
      "valid data samples is 5382\n"
     ]
    }
   ],
   "source": [
    "# Connvert train, dev input by using TensorDataset\n",
    "\n",
    "from torch.utils.data import TensorDataset,random_split\n",
    "\n",
    "train_dataset = TensorDataset(train_input_ids,train_encoded_label_tensors,train_attention_masks)\n",
    "#train_attention_masks,\n",
    "dev_dataset = TensorDataset(dev_input_ids,dev_encoded_label_tensors,dev_attention_masks)\n",
    "#,dev_attention_masks\n",
    "\n",
    "print('train data samples is {}'.format(len(train_dataset)))\n",
    "print(\"valid data samples is {}\".format(len(dev_dataset)))"
   ]
  },
  {
   "cell_type": "code",
   "execution_count": null,
   "metadata": {
    "id": "muSvExPiVnS-",
    "trusted": true
   },
   "outputs": [],
   "source": [
    "from torch.utils.data import DataLoader,RandomSampler,SequentialSampler\n",
    "\n",
    "bs=32\n",
    "\n",
    "train_data_loader = DataLoader(train_dataset,\n",
    "                              sampler=RandomSampler(train_dataset),\n",
    "                              batch_size=bs)\n",
    "valid_data_loader = DataLoader(dev_dataset,\n",
    "                              sampler=RandomSampler(dev_dataset),\n",
    "                              batch_size=bs)"
   ]
  },
  {
   "cell_type": "code",
   "execution_count": 12,
   "metadata": {},
   "outputs": [
    {
     "data": {
      "text/plain": [
       "['/workspace/thviet/LLMs/Monolingual/val_data_loader.pkl']"
      ]
     },
     "execution_count": 12,
     "metadata": {},
     "output_type": "execute_result"
    }
   ],
   "source": [
    "import joblib\n",
    "joblib.dump(train_data_loader, '/workspace/thviet/LLMs/Monolingual/train_data_loader.pkl')\n",
    "joblib.dump(valid_data_loader, '/workspace/thviet/LLMs/Monolingual/val_data_loader.pkl')"
   ]
  },
  {
   "cell_type": "code",
   "execution_count": 17,
   "metadata": {},
   "outputs": [
    {
     "data": {
      "text/plain": [
       "['/workspace/thviet/LLMs/Monolingual/toxic/test_data_loader.pkl']"
      ]
     },
     "execution_count": 17,
     "metadata": {},
     "output_type": "execute_result"
    }
   ],
   "source": [
    "joblib.dump(test_data_loader, '/workspace/thviet/LLMs/Monolingual/toxic/test_data_loader.pkl')"
   ]
  },
  {
   "cell_type": "code",
   "execution_count": 4,
   "metadata": {},
   "outputs": [],
   "source": [
    "import joblib\n",
    "trainloader =  joblib.load('/workspace/thviet/LLMs/Monolingual/toxic/data_loader/train_data_loader.pkl')\n",
    "valloader = joblib.load('/workspace/thviet/LLMs/Monolingual/toxic/data_loader/val_data_loader.pkl')\n",
    "testloader = joblib.load('/workspace/thviet/LLMs/Monolingual/toxic/data_loader/test_data_loader.pkl')\n",
    "\n",
    "BATCH_SIZE = 32\n",
    "train_dataloader = torch.utils.data.DataLoader(trainloader.dataset,batch_size= BATCH_SIZE, shuffle= True)\n",
    "test_dataloader = torch.utils.data.DataLoader(testloader.dataset,batch_size= BATCH_SIZE)\n",
    "val_dataloader = torch.utils.data.DataLoader(valloader.dataset,batch_size= BATCH_SIZE)\n"
   ]
  },
  {
   "cell_type": "code",
   "execution_count": 5,
   "metadata": {
    "id": "3v0rBLYUVnS-",
    "trusted": true
   },
   "outputs": [],
   "source": [
    "import torch.nn as nn\n",
    "import torch.nn.functional as F\n",
    "\n",
    "class BCNN(nn.Module):\n",
    "    def __init__(self, embedding_dim, output_dim,\n",
    "                 dropout,bidirectional_units,conv_filters):\n",
    "\n",
    "        super().__init__()\n",
    "        self.bert = phoBert\n",
    "        #.fc_input = nn.Linear(embedding_dim,embedding_dim)\n",
    "        self.bidirectional_lstm = nn.LSTM(\n",
    "            embedding_dim, bidirectional_units, bidirectional=True, batch_first=True\n",
    "        )\n",
    "        self.conv1 = nn.Conv1d(in_channels=2*bidirectional_units, out_channels=conv_filters[0], kernel_size=4)\n",
    "        self.conv2 = nn.Conv1d(in_channels=2*bidirectional_units, out_channels=conv_filters[1], kernel_size=5)\n",
    "\n",
    "        self.fc = nn.Linear(64, output_dim)\n",
    "\n",
    "        self.dropout = nn.Dropout(dropout)\n",
    "\n",
    "    def forward(self,b_input_ids,b_input_mask):\n",
    "        encoded = self.bert(b_input_ids,b_input_mask)[0]\n",
    "        embedded, _ = self.bidirectional_lstm(encoded)\n",
    "        embedded = embedded.permute(0, 2, 1)\n",
    "        conved_1 = F.relu(self.conv1(embedded))\n",
    "        conved_2 = F.relu(self.conv2(embedded))\n",
    "        #conved_n = [batch size, n_filters, sent len - filter_sizes[n] + 1]\n",
    "\n",
    "        pooled_1 = F.max_pool1d(conved_1, conved_1.shape[2]).squeeze(2)\n",
    "        pooled_2 = F.max_pool1d(conved_2, conved_2.shape[2]).squeeze(2)\n",
    "        #pooled_n = [batch size, n_fibatlters]\n",
    "\n",
    "        cat = self.dropout(torch.cat((pooled_1, pooled_2), dim = 1))\n",
    "\n",
    "        #cat = [batch size, n_filters * len(filter_sizes)]\n",
    "\n",
    "        result =  self.fc(cat)\n",
    "\n",
    "        return result"
   ]
  },
  {
   "cell_type": "code",
   "execution_count": 6,
   "metadata": {
    "id": "GpgY3BSbVnS-",
    "trusted": true
   },
   "outputs": [],
   "source": [
    "# Hyperparameters\n",
    "\n",
    "EMBEDDING_DIM = 768\n",
    "OUTPUT_DIM = 2\n",
    "DROPOUT = 0.1\n",
    "CONV_FILTERS = [32, 32]  # Number of filters for each kernel size (4 and 5)\n",
    "BIDIRECTIONAL_UNITS = 128\n",
    "cnn = BCNN(EMBEDDING_DIM, OUTPUT_DIM, DROPOUT, BIDIRECTIONAL_UNITS, CONV_FILTERS)\n",
    "cnn = cnn.to(device)"
   ]
  },
  {
   "cell_type": "markdown",
   "metadata": {
    "id": "9ukdj7VGVnS_"
   },
   "source": []
  },
  {
   "cell_type": "markdown",
   "metadata": {
    "id": "ahT93jsSVnTA"
   },
   "source": [
    "Thiết lập optimizer Adam cho mô hình, kết hợp các tham số từ cả PhoBERT và CNN.\n",
    " Khởi tạo hàm mất mát Cross Entropy, thường được sử dụng cho các bài toán phân loại đa lớp.\n",
    "Hàm mất mát cũng được chuyển sang thiết bị tính toán để sẵn sàng cho quá trình huấn luyện."
   ]
  },
  {
   "cell_type": "code",
   "execution_count": 7,
   "metadata": {
    "id": "Kd_1Yf_1VnTA",
    "trusted": true
   },
   "outputs": [],
   "source": [
    "import torch.optim as optim\n",
    "\n",
    "model_prameters = list(cnn.parameters())\n",
    "\n",
    "optimizer = optim.Adam(model_prameters,lr=2e-5,eps=1e-8)\n",
    "criterion = nn.CrossEntropyLoss()\n",
    "criterion = criterion.to(device)"
   ]
  },
  {
   "cell_type": "code",
   "execution_count": 8,
   "metadata": {
    "id": "5hdKazx7VnTA",
    "trusted": true
   },
   "outputs": [],
   "source": [
    "def categorical_accuracy(preds, y):\n",
    "    max_preds = preds.argmax(dim=1, keepdim=True)  # Lấy chỉ số của xác suất cao nhất\n",
    "    correct = max_preds.squeeze(1).eq(y.to(preds.device))  # Đảm bảo y nằm cùng thiết bị với preds\n",
    "    return correct.sum() / torch.FloatTensor([y.shape[0]]).to(preds.device)  # Đảm bảo tất cả tensor nằm cùng thiết bị"
   ]
  },
  {
   "cell_type": "code",
   "execution_count": 14,
   "metadata": {
    "id": "DUJkFHWRVnTB",
    "trusted": true
   },
   "outputs": [],
   "source": [
    "# Def for training\n",
    "\n",
    "from tqdm import tqdm\n",
    "\n",
    "def train():\n",
    "\n",
    "    epoch_loss = 0\n",
    "    epoch_acc = 0\n",
    "\n",
    "    phoBert.train()\n",
    "    cnn.train()\n",
    "    for batch in tqdm(train_dataloader):\n",
    "        b_input_ids = batch[0].to(device)\n",
    "        b_labels = batch[1].to(device)\n",
    "        b_input_mask = batch[2].to(device)\n",
    "        optimizer.zero_grad()\n",
    "\n",
    "        predictions = cnn(b_input_ids,b_input_mask)\n",
    "        #, decoder_input_ids=b_labels\n",
    "        #hidden_states = outputs.hidden_states\n",
    "        #embedded = hidden_states[-1]\n",
    "        '''predictions = cnn(outputs)'''\n",
    "\n",
    "        loss = criterion(predictions, b_labels)\n",
    "        #.long()\n",
    "\n",
    "        acc = categorical_accuracy(predictions, b_labels)\n",
    "\n",
    "        loss.backward()\n",
    "\n",
    "        optimizer.step()\n",
    "\n",
    "        epoch_loss += loss.item()\n",
    "        epoch_acc += acc.item()\n",
    "\n",
    "    return epoch_loss / len(train_dataloader), epoch_acc / len(train_dataloader)"
   ]
  },
  {
   "cell_type": "code",
   "execution_count": 10,
   "metadata": {
    "id": "2vViT3rJVnTB",
    "trusted": true
   },
   "outputs": [],
   "source": [
    "# Class for predict label\n",
    "\n",
    "import numpy as np\n",
    "\n",
    "def predictions_labels(preds,labels):\n",
    "    pred = np.argmax(preds,axis=1).flatten()\n",
    "    label = labels.flatten()\n",
    "    return pred,label"
   ]
  },
  {
   "cell_type": "code",
   "execution_count": 15,
   "metadata": {
    "id": "m9SpO-_tVnTB",
    "trusted": true
   },
   "outputs": [],
   "source": [
    "from sklearn.metrics import classification_report,accuracy_score,f1_score\n",
    "def eval():\n",
    "    epoch_loss = 0\n",
    "\n",
    "    total_predictions = []\n",
    "    total_true = []\n",
    "\n",
    "    all_true_labels = []\n",
    "    all_pred_labels = []\n",
    "    cnn.eval()\n",
    "\n",
    "    with torch.no_grad():\n",
    "\n",
    "        for batch in tqdm(val_dataloader):\n",
    "            b_input_ids = batch[0].to(device)\n",
    "            b_labels = batch[1].to(device)\n",
    "            b_input_mask = batch[2].to(device)\n",
    "           \n",
    "\n",
    "            predictions = cnn(b_input_ids,b_input_mask)\n",
    "            #hidden_states = outputs.hidden_states\n",
    "            #embedded = outputs.encoder_last_hidden_state\n",
    "            ''' predictions = cnn(outputs)'''\n",
    "\n",
    "            loss = criterion(predictions, b_labels)\n",
    "            #.long()\n",
    "            epoch_loss += loss.item()\n",
    "\n",
    "            predictions = predictions.detach().cpu().numpy()\n",
    "\n",
    "            label_ids = b_labels.to('cpu').numpy()\n",
    "\n",
    "            pred,true = predictions_labels(predictions,label_ids)\n",
    "\n",
    "            all_pred_labels.extend(pred)\n",
    "            all_true_labels.extend(true)\n",
    "\n",
    "    print(classification_report(all_true_labels,all_pred_labels))\n",
    "    avg_val_accuracy = accuracy_score(all_true_labels,all_pred_labels)\n",
    "    macro_f1_score = f1_score(all_true_labels,all_pred_labels,average='macro')\n",
    "\n",
    "    avg_val_loss = epoch_loss/len(val_dataloader)\n",
    "\n",
    "    print(\"accuracy = {0:.2f}\".format(avg_val_accuracy))\n",
    "    return avg_val_loss,avg_val_accuracy,macro_f1_score"
   ]
  },
  {
   "cell_type": "code",
   "execution_count": 12,
   "metadata": {
    "id": "2JdVeYqXVnTB",
    "trusted": true
   },
   "outputs": [],
   "source": [
    "# Time for training\n",
    "\n",
    "import time\n",
    "def epoch_time(start_time, end_time):\n",
    "    elapsed_time = end_time - start_time\n",
    "    elapsed_mins = int(elapsed_time / 60)\n",
    "    elapsed_secs = int(elapsed_time - (elapsed_mins * 60))\n",
    "    return elapsed_mins, elapsed_secs"
   ]
  },
  {
   "cell_type": "code",
   "execution_count": 16,
   "metadata": {
    "colab": {
     "base_uri": "https://localhost:8080/"
    },
    "id": "v4aZHuEoVnTB",
    "outputId": "65ec2950-7a0a-48aa-cc72-1d369a805978",
    "trusted": true
   },
   "outputs": [
    {
     "name": "stderr",
     "output_type": "stream",
     "text": [
      "100%|██████████| 1350/1350 [04:15<00:00,  5.29it/s]\n",
      "100%|██████████| 169/169 [00:10<00:00, 15.56it/s]\n"
     ]
    },
    {
     "name": "stdout",
     "output_type": "stream",
     "text": [
      "              precision    recall  f1-score   support\n",
      "\n",
      "           0       0.88      0.96      0.92      3938\n",
      "           1       0.85      0.63      0.72      1444\n",
      "\n",
      "    accuracy                           0.87      5382\n",
      "   macro avg       0.86      0.79      0.82      5382\n",
      "weighted avg       0.87      0.87      0.86      5382\n",
      "\n",
      "accuracy = 0.87\n",
      "model saved\n",
      "Epoch: 01 | Epoch Time: 4m 25s\n",
      "\tTrain Loss: 0.298 | Train acc: 87.92%\n",
      "\t Val. Loss: 0.314 |  Val. acc: 87.07%\n",
      "\t Val. Loss: 0.314 |  Val. F1: 81.95%\n",
      "=============Epoch Ended==============\n"
     ]
    },
    {
     "name": "stderr",
     "output_type": "stream",
     "text": [
      "100%|██████████| 1350/1350 [04:22<00:00,  5.14it/s]\n",
      "100%|██████████| 169/169 [00:11<00:00, 15.29it/s]\n"
     ]
    },
    {
     "name": "stdout",
     "output_type": "stream",
     "text": [
      "              precision    recall  f1-score   support\n",
      "\n",
      "           0       0.89      0.94      0.92      3938\n",
      "           1       0.81      0.70      0.75      1444\n",
      "\n",
      "    accuracy                           0.87      5382\n",
      "   macro avg       0.85      0.82      0.83      5382\n",
      "weighted avg       0.87      0.87      0.87      5382\n",
      "\n",
      "accuracy = 0.87\n",
      "model saved\n",
      "Epoch: 02 | Epoch Time: 4m 33s\n",
      "\tTrain Loss: 0.240 | Train acc: 90.44%\n",
      "\t Val. Loss: 0.317 |  Val. acc: 87.46%\n",
      "\t Val. Loss: 0.317 |  Val. F1: 83.28%\n",
      "=============Epoch Ended==============\n"
     ]
    },
    {
     "name": "stderr",
     "output_type": "stream",
     "text": [
      "100%|██████████| 1350/1350 [04:21<00:00,  5.16it/s]\n",
      "100%|██████████| 169/169 [00:10<00:00, 15.49it/s]\n"
     ]
    },
    {
     "name": "stdout",
     "output_type": "stream",
     "text": [
      "              precision    recall  f1-score   support\n",
      "\n",
      "           0       0.91      0.89      0.90      3938\n",
      "           1       0.71      0.77      0.74      1444\n",
      "\n",
      "    accuracy                           0.86      5382\n",
      "   macro avg       0.81      0.83      0.82      5382\n",
      "weighted avg       0.86      0.86      0.86      5382\n",
      "\n",
      "accuracy = 0.86\n",
      "Epoch: 03 | Epoch Time: 4m 32s\n",
      "\tTrain Loss: 0.190 | Train acc: 92.79%\n",
      "\t Val. Loss: 0.366 |  Val. acc: 85.56%\n",
      "\t Val. Loss: 0.366 |  Val. F1: 82.07%\n",
      "=============Epoch Ended==============\n"
     ]
    },
    {
     "name": "stderr",
     "output_type": "stream",
     "text": [
      "100%|██████████| 1350/1350 [04:23<00:00,  5.12it/s]\n",
      "100%|██████████| 169/169 [00:10<00:00, 15.46it/s]\n"
     ]
    },
    {
     "name": "stdout",
     "output_type": "stream",
     "text": [
      "              precision    recall  f1-score   support\n",
      "\n",
      "           0       0.91      0.89      0.90      3938\n",
      "           1       0.72      0.77      0.75      1444\n",
      "\n",
      "    accuracy                           0.86      5382\n",
      "   macro avg       0.82      0.83      0.82      5382\n",
      "weighted avg       0.86      0.86      0.86      5382\n",
      "\n",
      "accuracy = 0.86\n",
      "Epoch: 04 | Epoch Time: 4m 34s\n",
      "\tTrain Loss: 0.144 | Train acc: 94.66%\n",
      "\t Val. Loss: 0.426 |  Val. acc: 85.97%\n",
      "\t Val. Loss: 0.426 |  Val. F1: 82.48%\n",
      "=============Epoch Ended==============\n"
     ]
    },
    {
     "name": "stderr",
     "output_type": "stream",
     "text": [
      "100%|██████████| 1350/1350 [04:24<00:00,  5.11it/s]\n",
      "100%|██████████| 169/169 [00:11<00:00, 15.24it/s]\n"
     ]
    },
    {
     "name": "stdout",
     "output_type": "stream",
     "text": [
      "              precision    recall  f1-score   support\n",
      "\n",
      "           0       0.87      0.95      0.91      3938\n",
      "           1       0.81      0.62      0.70      1444\n",
      "\n",
      "    accuracy                           0.86      5382\n",
      "   macro avg       0.84      0.78      0.81      5382\n",
      "weighted avg       0.86      0.86      0.85      5382\n",
      "\n",
      "accuracy = 0.86\n",
      "Epoch: 05 | Epoch Time: 4m 35s\n",
      "\tTrain Loss: 0.107 | Train acc: 96.03%\n",
      "\t Val. Loss: 0.407 |  Val. acc: 85.92%\n",
      "\t Val. Loss: 0.407 |  Val. F1: 80.55%\n",
      "=============Epoch Ended==============\n"
     ]
    },
    {
     "name": "stderr",
     "output_type": "stream",
     "text": [
      "100%|██████████| 1350/1350 [04:24<00:00,  5.11it/s]\n",
      "100%|██████████| 169/169 [00:11<00:00, 15.29it/s]\n"
     ]
    },
    {
     "name": "stdout",
     "output_type": "stream",
     "text": [
      "              precision    recall  f1-score   support\n",
      "\n",
      "           0       0.90      0.91      0.90      3938\n",
      "           1       0.74      0.73      0.74      1444\n",
      "\n",
      "    accuracy                           0.86      5382\n",
      "   macro avg       0.82      0.82      0.82      5382\n",
      "weighted avg       0.86      0.86      0.86      5382\n",
      "\n",
      "accuracy = 0.86\n",
      "Epoch: 06 | Epoch Time: 4m 35s\n",
      "\tTrain Loss: 0.080 | Train acc: 97.11%\n",
      "\t Val. Loss: 0.553 |  Val. acc: 85.97%\n",
      "\t Val. Loss: 0.553 |  Val. F1: 82.02%\n",
      "=============Epoch Ended==============\n"
     ]
    },
    {
     "name": "stderr",
     "output_type": "stream",
     "text": [
      "100%|██████████| 1350/1350 [04:23<00:00,  5.13it/s]\n",
      "100%|██████████| 169/169 [00:10<00:00, 15.51it/s]\n"
     ]
    },
    {
     "name": "stdout",
     "output_type": "stream",
     "text": [
      "              precision    recall  f1-score   support\n",
      "\n",
      "           0       0.90      0.92      0.91      3938\n",
      "           1       0.77      0.71      0.74      1444\n",
      "\n",
      "    accuracy                           0.86      5382\n",
      "   macro avg       0.83      0.82      0.82      5382\n",
      "weighted avg       0.86      0.86      0.86      5382\n",
      "\n",
      "accuracy = 0.86\n",
      "Epoch: 07 | Epoch Time: 4m 34s\n",
      "\tTrain Loss: 0.062 | Train acc: 97.77%\n",
      "\t Val. Loss: 0.613 |  Val. acc: 86.44%\n",
      "\t Val. Loss: 0.613 |  Val. F1: 82.31%\n",
      "=============Epoch Ended==============\n"
     ]
    },
    {
     "name": "stderr",
     "output_type": "stream",
     "text": [
      "100%|██████████| 1350/1350 [04:22<00:00,  5.15it/s]\n",
      "100%|██████████| 169/169 [00:10<00:00, 15.62it/s]\n"
     ]
    },
    {
     "name": "stdout",
     "output_type": "stream",
     "text": [
      "              precision    recall  f1-score   support\n",
      "\n",
      "           0       0.89      0.94      0.91      3938\n",
      "           1       0.80      0.67      0.73      1444\n",
      "\n",
      "    accuracy                           0.87      5382\n",
      "   macro avg       0.84      0.80      0.82      5382\n",
      "weighted avg       0.86      0.87      0.86      5382\n",
      "\n",
      "accuracy = 0.87\n",
      "Epoch: 08 | Epoch Time: 4m 33s\n",
      "\tTrain Loss: 0.054 | Train acc: 98.09%\n",
      "\t Val. Loss: 0.722 |  Val. acc: 86.53%\n",
      "\t Val. Loss: 0.722 |  Val. F1: 81.90%\n",
      "=============Epoch Ended==============\n"
     ]
    },
    {
     "name": "stderr",
     "output_type": "stream",
     "text": [
      "100%|██████████| 1350/1350 [04:20<00:00,  5.19it/s]\n",
      "100%|██████████| 169/169 [00:10<00:00, 15.64it/s]\n"
     ]
    },
    {
     "name": "stdout",
     "output_type": "stream",
     "text": [
      "              precision    recall  f1-score   support\n",
      "\n",
      "           0       0.88      0.93      0.91      3938\n",
      "           1       0.79      0.65      0.71      1444\n",
      "\n",
      "    accuracy                           0.86      5382\n",
      "   macro avg       0.83      0.79      0.81      5382\n",
      "weighted avg       0.85      0.86      0.85      5382\n",
      "\n",
      "accuracy = 0.86\n",
      "Epoch: 09 | Epoch Time: 4m 30s\n",
      "\tTrain Loss: 0.044 | Train acc: 98.36%\n",
      "\t Val. Loss: 0.674 |  Val. acc: 85.84%\n",
      "\t Val. Loss: 0.674 |  Val. F1: 80.87%\n",
      "=============Epoch Ended==============\n"
     ]
    },
    {
     "name": "stderr",
     "output_type": "stream",
     "text": [
      "100%|██████████| 1350/1350 [04:19<00:00,  5.20it/s]\n",
      "100%|██████████| 169/169 [00:10<00:00, 15.58it/s]"
     ]
    },
    {
     "name": "stdout",
     "output_type": "stream",
     "text": [
      "              precision    recall  f1-score   support\n",
      "\n",
      "           0       0.91      0.90      0.90      3938\n",
      "           1       0.73      0.74      0.74      1444\n",
      "\n",
      "    accuracy                           0.86      5382\n",
      "   macro avg       0.82      0.82      0.82      5382\n",
      "weighted avg       0.86      0.86      0.86      5382\n",
      "\n",
      "accuracy = 0.86\n",
      "Epoch: 10 | Epoch Time: 4m 30s\n",
      "\tTrain Loss: 0.036 | Train acc: 98.74%\n",
      "\t Val. Loss: 0.737 |  Val. acc: 85.80%\n",
      "\t Val. Loss: 0.737 |  Val. F1: 82.01%\n",
      "=============Epoch Ended==============\n"
     ]
    },
    {
     "name": "stderr",
     "output_type": "stream",
     "text": [
      "\n"
     ]
    }
   ],
   "source": [
    "epochs = 10\n",
    "\n",
    "best_macro_f1 = float('0')\n",
    "#phoBert.to(device)\n",
    "for epoch in range(epochs):\n",
    "\n",
    "    start_time = time.time()\n",
    "    train_loss,train_acc = train()\n",
    "    valid_loss,valid_acc,macro_f1 = eval()\n",
    "    end_time = time.time()\n",
    "\n",
    "\n",
    "    epoch_mins, epoch_secs = epoch_time(start_time, end_time)\n",
    "\n",
    "    if macro_f1 > best_macro_f1:\n",
    "        best_macro_f1 = macro_f1\n",
    "        #torch.save(phoBert,'phobert.pt')\n",
    "        torch.save(cnn,'toxic.pt')\n",
    "        print(\"model saved\")\n",
    "\n",
    "    print(f'Epoch: {epoch+1:02} | Epoch Time: {epoch_mins}m {epoch_secs}s')\n",
    "    print(f'\\tTrain Loss: {train_loss:.3f} | Train acc: {train_acc*100:.2f}%')\n",
    "    print(f'\\t Val. Loss: {valid_loss:.3f} |  Val. acc: {valid_acc*100:.2f}%')\n",
    "    print(f'\\t Val. Loss: {valid_loss:.3f} |  Val. F1: {macro_f1*100:.2f}%')\n",
    "    print('=============Epoch Ended==============')"
   ]
  },
  {
   "cell_type": "code",
   "execution_count": 12,
   "metadata": {
    "colab": {
     "base_uri": "https://localhost:8080/"
    },
    "id": "64U4NqK0VnTC",
    "outputId": "4e8081d5-085c-4dc8-d934-3194998c0c88",
    "trusted": true
   },
   "outputs": [
    {
     "name": "stderr",
     "output_type": "stream",
     "text": [
      "/tmp/ipykernel_244037/1756912611.py:1: FutureWarning: You are using `torch.load` with `weights_only=False` (the current default value), which uses the default pickle module implicitly. It is possible to construct malicious pickle data which will execute arbitrary code during unpickling (See https://github.com/pytorch/pytorch/blob/main/SECURITY.md#untrusted-models for more details). In a future release, the default value for `weights_only` will be flipped to `True`. This limits the functions that could be executed during unpickling. Arbitrary objects will no longer be allowed to be loaded via this mode unless they are explicitly allowlisted by the user via `torch.serialization.add_safe_globals`. We recommend you start setting `weights_only=True` for any use case where you don't have full control of the loaded file. Please open an issue on GitHub for any issues related to this experimental feature.\n",
      "  cnn = torch.load(r'toxic.pt')\n"
     ]
    }
   ],
   "source": [
    "cnn = torch.load(r'toxic.pt')"
   ]
  },
  {
   "cell_type": "code",
   "execution_count": 13,
   "metadata": {},
   "outputs": [
    {
     "data": {
      "text/plain": [
       "BCNN(\n",
       "  (bert): RobertaModel(\n",
       "    (embeddings): RobertaEmbeddings(\n",
       "      (word_embeddings): Embedding(64001, 768, padding_idx=1)\n",
       "      (position_embeddings): Embedding(258, 768, padding_idx=1)\n",
       "      (token_type_embeddings): Embedding(1, 768)\n",
       "      (LayerNorm): LayerNorm((768,), eps=1e-05, elementwise_affine=True)\n",
       "      (dropout): Dropout(p=0.1, inplace=False)\n",
       "    )\n",
       "    (encoder): RobertaEncoder(\n",
       "      (layer): ModuleList(\n",
       "        (0-11): 12 x RobertaLayer(\n",
       "          (attention): RobertaAttention(\n",
       "            (self): RobertaSdpaSelfAttention(\n",
       "              (query): Linear(in_features=768, out_features=768, bias=True)\n",
       "              (key): Linear(in_features=768, out_features=768, bias=True)\n",
       "              (value): Linear(in_features=768, out_features=768, bias=True)\n",
       "              (dropout): Dropout(p=0.1, inplace=False)\n",
       "            )\n",
       "            (output): RobertaSelfOutput(\n",
       "              (dense): Linear(in_features=768, out_features=768, bias=True)\n",
       "              (LayerNorm): LayerNorm((768,), eps=1e-05, elementwise_affine=True)\n",
       "              (dropout): Dropout(p=0.1, inplace=False)\n",
       "            )\n",
       "          )\n",
       "          (intermediate): RobertaIntermediate(\n",
       "            (dense): Linear(in_features=768, out_features=3072, bias=True)\n",
       "            (intermediate_act_fn): GELUActivation()\n",
       "          )\n",
       "          (output): RobertaOutput(\n",
       "            (dense): Linear(in_features=3072, out_features=768, bias=True)\n",
       "            (LayerNorm): LayerNorm((768,), eps=1e-05, elementwise_affine=True)\n",
       "            (dropout): Dropout(p=0.1, inplace=False)\n",
       "          )\n",
       "        )\n",
       "      )\n",
       "    )\n",
       "    (pooler): RobertaPooler(\n",
       "      (dense): Linear(in_features=768, out_features=768, bias=True)\n",
       "      (activation): Tanh()\n",
       "    )\n",
       "  )\n",
       "  (bidirectional_lstm): LSTM(768, 128, batch_first=True, bidirectional=True)\n",
       "  (conv1): Conv1d(256, 32, kernel_size=(4,), stride=(1,))\n",
       "  (conv2): Conv1d(256, 32, kernel_size=(5,), stride=(1,))\n",
       "  (fc): Linear(in_features=64, out_features=2, bias=True)\n",
       "  (dropout): Dropout(p=0.1, inplace=False)\n",
       ")"
      ]
     },
     "execution_count": 13,
     "metadata": {},
     "output_type": "execute_result"
    }
   ],
   "source": [
    "cnn.to(device)"
   ]
  },
  {
   "cell_type": "code",
   "execution_count": 10,
   "metadata": {},
   "outputs": [],
   "source": [
    "import pandas as pd\n",
    "test = pd.read_csv('test.csv')\n"
   ]
  },
  {
   "cell_type": "code",
   "execution_count": 11,
   "metadata": {},
   "outputs": [],
   "source": [
    "test = test.dropna()\n",
    "X_test = test['text']\n",
    "y_test = test['label']\n",
    "test_sentences = list(test['text'].values)\n",
    "test_labels = list(test['label'].values)\n"
   ]
  },
  {
   "cell_type": "code",
   "execution_count": 14,
   "metadata": {},
   "outputs": [],
   "source": [
    "from tqdm import tqdm\n",
    "def encoder_generator(sentences,labels):\n",
    "\n",
    "\n",
    "    sent_index1 = []\n",
    "    sent_index2 = []\n",
    "    input_ids = []\n",
    "    attention_masks = []\n",
    "    decoder_labels = []\n",
    "    tokenizer.pad_token = tokenizer.eos_token\n",
    "    for index, sent in enumerate(tqdm(sentences)):\n",
    "        sent_index1.append(index)\n",
    "\n",
    "        encoded_dict = tokenizer.encode_plus(\n",
    "            sent,\n",
    "            add_special_tokens=True,\n",
    "            max_length=128,\n",
    "            pad_to_max_length=True,\n",
    "            truncation=True,\n",
    "            return_attention_mask=True,\n",
    "            return_tensors='pt'\n",
    "        )\n",
    "        input_ids.append(encoded_dict['input_ids'].to(device))\n",
    "        attention_masks.append(encoded_dict['attention_mask'].to(device))\n",
    "    # Concatenate and move final tensors to the GPU\n",
    "    input_ids = torch.cat(input_ids, dim=0).to(device)\n",
    "    attention_masks = torch.cat(attention_masks, dim=0).to(device)\n",
    "    #decoder_labels = torch.cat(decoder_labels,dim=0).to(device)\n",
    "    labels = torch.tensor(labels).to(device)\n",
    "    sent_index1 = torch.tensor(sent_index1).to(device)\n",
    "    \n",
    "    return sent_index1, input_ids, attention_masks, labels"
   ]
  },
  {
   "cell_type": "code",
   "execution_count": 16,
   "metadata": {
    "colab": {
     "base_uri": "https://localhost:8080/"
    },
    "id": "rqEjMgadVnTC",
    "outputId": "2a4bf732-7d94-4844-ab36-f91c1e4db2a6",
    "trusted": true
   },
   "outputs": [
    {
     "name": "stderr",
     "output_type": "stream",
     "text": [
      "100%|██████████| 5382/5382 [00:01<00:00, 3375.42it/s]\n"
     ]
    }
   ],
   "source": [
    "from torch.utils.data import TensorDataset,random_split,DataLoader,RandomSampler\n",
    "test_sent_index, test_input_ids, test_attention_masks, test_encoded_label_tensors = encoder_generator(test_sentences,test_labels)\n",
    "test_dataset = TensorDataset(test_input_ids,test_encoded_label_tensors,test_attention_masks)\n",
    "test_data_loader = DataLoader(test_dataset,\n",
    "                              sampler=RandomSampler(test_dataset),\n",
    "                              batch_size=32)"
   ]
  },
  {
   "cell_type": "code",
   "execution_count": 17,
   "metadata": {},
   "outputs": [
    {
     "name": "stderr",
     "output_type": "stream",
     "text": [
      "100%|██████████| 169/169 [00:08<00:00, 20.80it/s]\n"
     ]
    }
   ],
   "source": [
    "all_pred_labels = []\n",
    "all_true_labels = []\n",
    "\n",
    "with torch.no_grad():\n",
    "  for batch in tqdm(test_dataloader):\n",
    "    b_input_ids = batch[0].to(device)\n",
    "    b_input_mask = batch[2].to(device)\n",
    "    b_labels = batch[1].to(device)\n",
    "    predictions = cnn(b_input_ids,b_input_mask)\n",
    "    \n",
    "\n",
    "\n",
    "    predictions = predictions.detach().cpu().numpy()\n",
    "\n",
    "    label_ids = b_labels.to('cpu').numpy()\n",
    "\n",
    "    pred, true = predictions_labels(predictions, label_ids)\n",
    "\n",
    "    all_pred_labels.extend(pred)\n",
    "    all_true_labels.extend(true)"
   ]
  },
  {
   "cell_type": "code",
   "execution_count": 18,
   "metadata": {
    "id": "_ja1ix-rVnTC",
    "trusted": true
   },
   "outputs": [
    {
     "name": "stdout",
     "output_type": "stream",
     "text": [
      "              precision    recall  f1-score   support\n",
      "\n",
      "           0     0.9058    0.9001    0.9029      3952\n",
      "           1     0.7285    0.7413    0.7348      1430\n",
      "\n",
      "    accuracy                         0.8579      5382\n",
      "   macro avg     0.8172    0.8207    0.8189      5382\n",
      "weighted avg     0.8587    0.8579    0.8582      5382\n",
      "\n"
     ]
    }
   ],
   "source": [
    "# The final score in the test set (classification report)\n",
    "\n",
    "print(classification_report(all_true_labels,all_pred_labels, digits = 4))"
   ]
  },
  {
   "cell_type": "code",
   "execution_count": 19,
   "metadata": {
    "id": "lKT1OhdTVnTC",
    "trusted": true
   },
   "outputs": [
    {
     "name": "stdout",
     "output_type": "stream",
     "text": [
      "F1 - micro: 0.8578595317725752\n",
      "F1 - macro: 0.8188709077483243\n"
     ]
    }
   ],
   "source": [
    "evaluation = f1_score(all_true_labels, all_pred_labels, average='micro')\n",
    "\n",
    "print(\"F1 - micro: \" + str(evaluation))\n",
    "\n",
    "evaluation = f1_score(all_true_labels, all_pred_labels, average='macro')\n",
    "print(\"F1 - macro: \" + str(evaluation))"
   ]
  },
  {
   "cell_type": "code",
   "execution_count": 20,
   "metadata": {
    "id": "F3A4xEOKVnTC",
    "trusted": true
   },
   "outputs": [
    {
     "data": {
      "text/plain": [
       "<Axes: >"
      ]
     },
     "execution_count": 20,
     "metadata": {},
     "output_type": "execute_result"
    },
    {
     "data": {
      "image/png": "[encoded data removed]",
      "text/plain": [
       "<Figure size 640x480 with 2 Axes>"
      ]
     },
     "metadata": {},
     "output_type": "display_data"
    }
   ],
   "source": [
    "import matplotlib.pyplot as plt\n",
    "import seaborn as sn\n",
    "import matplotlib.pyplot as plt\n",
    "import seaborn as sn\n",
    "import pandas as pd\n",
    "# Import the confusion_matrix function from sklearn.metrics\n",
    "from sklearn.metrics import confusion_matrix\n",
    "cf1 = confusion_matrix(all_true_labels, all_pred_labels)\n",
    "df_cm1 = pd.DataFrame(cf1, index = [\"non-toxic\",\"toxic\"],\n",
    "                  columns = [\"non-toxic\",\"toxic\"])\n",
    "plt.clf()\n",
    "sn.heatmap(df_cm1, annot=True, cmap=\"Greys\",fmt='g', cbar=True, annot_kws={\"size\": 30})"
   ]
  },
  {
   "cell_type": "code",
   "execution_count": 21,
   "metadata": {},
   "outputs": [
    {
     "name": "stdout",
     "output_type": "stream",
     "text": [
      "0.7412587412587412\n"
     ]
    }
   ],
   "source": [
    "print(1060/(1060+370))"
   ]
  }
 ],
 "metadata": {
  "accelerator": "GPU",
  "colab": {
   "gpuType": "T4",
   "provenance": []
  },
  "kaggle": {
   "accelerator": "gpu",
   "dataSources": [
    {
     "datasetId": 5316719,
     "sourceId": 8835212,
     "sourceType": "datasetVersion"
    }
   ],
   "dockerImageVersionId": 30787,
   "isGpuEnabled": true,
   "isInternetEnabled": true,
   "language": "python",
   "sourceType": "notebook"
  },
  "kernelspec": {
   "display_name": ".conda",
   "language": "python",
   "name": "python3"
  },
  "language_info": {
   "codemirror_mode": {
    "name": "ipython",
    "version": 3
   },
   "file_extension": ".py",
   "mimetype": "text/x-python",
   "name": "python",
   "nbconvert_exporter": "python",
   "pygments_lexer": "ipython3",
   "version": "3.12.7"
  }
 },
 "nbformat": 4,
 "nbformat_minor": 4
}
